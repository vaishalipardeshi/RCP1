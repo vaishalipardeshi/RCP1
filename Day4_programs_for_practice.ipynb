{
 "cells": [
  {
   "cell_type": "code",
   "execution_count": null,
   "metadata": {},
   "outputs": [],
   "source": [
    "#python program to display calender"
   ]
  },
  {
   "cell_type": "code",
   "execution_count": null,
   "metadata": {},
   "outputs": [],
   "source": [
    "#we import the calnder module.\n",
    "#the built-in function month() inside the module takes in the year and the mmonth and displays the calender\n",
    "for that month of the year."
   ]
  },
  {
   "cell_type": "code",
   "execution_count": 2,
   "metadata": {},
   "outputs": [
    {
     "name": "stdout",
     "output_type": "stream",
     "text": [
      "   November 2018\n",
      "Mo Tu We Th Fr Sa Su\n",
      "          1  2  3  4\n",
      " 5  6  7  8  9 10 11\n",
      "12 13 14 15 16 17 18\n",
      "19 20 21 22 23 24 25\n",
      "26 27 28 29 30\n",
      "\n"
     ]
    }
   ],
   "source": [
    "import calendar\n",
    "yy=2018  #year\n",
    "mm=11   #month\n",
    "print(calendar.month(yy,mm))"
   ]
  },
  {
   "cell_type": "code",
   "execution_count": null,
   "metadata": {},
   "outputs": [],
   "source": [
    "import calendar\n",
    "yy=2021 #year\n",
    "mm=4  #month\n",
    "#to take month and year input from the user\n",
    "#yy=int(input(\"enter year:\"))\n",
    "#mm=int(input(\"enter month:\"))\n",
    "#display the calendar\n",
    "print(calendar.month(yy,mm))"
   ]
  },
  {
   "cell_type": "code",
   "execution_count": 4,
   "metadata": {},
   "outputs": [
    {
     "name": "stdout",
     "output_type": "stream",
     "text": [
      "the value of pi is 3.141592653589793\n"
     ]
    }
   ],
   "source": [
    "#let us find the value of \"pi\"\n",
    "import math\n",
    "print(\"the value of pi is\",math.pi)"
   ]
  },
  {
   "cell_type": "code",
   "execution_count": 5,
   "metadata": {},
   "outputs": [
    {
     "name": "stdout",
     "output_type": "stream",
     "text": [
      "3.141592653589793\n"
     ]
    }
   ],
   "source": [
    "import math\n",
    "print(math.pi)"
   ]
  },
  {
   "cell_type": "code",
   "execution_count": 4,
   "metadata": {},
   "outputs": [
    {
     "name": "stdout",
     "output_type": "stream",
     "text": [
      "The sum of 37 and 17 is 54\n"
     ]
    }
   ],
   "source": [
    "#python program to add two numbers\n",
    "\n",
    "#Example1: Add two numbers (fixed point)\n",
    "\n",
    "num1=37\n",
    "num2=17\n",
    "sum= num1 + num2\n",
    "print('The sum of {0} and {1} is {2}'.format(num1,num2,sum))"
   ]
  },
  {
   "cell_type": "code",
   "execution_count": 2,
   "metadata": {},
   "outputs": [
    {
     "name": "stdout",
     "output_type": "stream",
     "text": [
      "55.42\n"
     ]
    }
   ],
   "source": [
    "print(sum)"
   ]
  },
  {
   "cell_type": "code",
   "execution_count": 3,
   "metadata": {},
   "outputs": [
    {
     "name": "stdout",
     "output_type": "stream",
     "text": [
      "enter first number22.23\n",
      "enter second number45.56\n",
      "67.79\n"
     ]
    }
   ],
   "source": [
    "#Example 2: Add two numbers with user input (floating point)\n",
    "\n",
    "num1=input('enter first number')\n",
    "num2=input('enter second number')\n",
    "sum= float(num1) + float(num2)\n",
    "print(sum)"
   ]
  },
  {
   "cell_type": "code",
   "execution_count": 5,
   "metadata": {},
   "outputs": [
    {
     "name": "stdout",
     "output_type": "stream",
     "text": [
      "The sub of 37 and 17 is 20\n"
     ]
    }
   ],
   "source": [
    "#Example3: substraction of two numbers (fixed point)\n",
    "\n",
    "num1=37\n",
    "num2=17\n",
    "sub= num1 - num2\n",
    "print('The sub of {0} and {1} is {2}'.format(num1,num2,sub))\n"
   ]
  },
  {
   "cell_type": "code",
   "execution_count": 7,
   "metadata": {},
   "outputs": [
    {
     "name": "stdout",
     "output_type": "stream",
     "text": [
      "enter first number20.40\n",
      "enter second number10.20\n",
      "10.2\n"
     ]
    }
   ],
   "source": [
    "#Example 4: substraction two numbers with user input (floating point)\n",
    "\n",
    "num1=input('enter first number')\n",
    "num2=input('enter second number')\n",
    "sub= float(num1) - float(num2)\n",
    "print(sub)"
   ]
  },
  {
   "cell_type": "code",
   "execution_count": 8,
   "metadata": {},
   "outputs": [
    {
     "name": "stdout",
     "output_type": "stream",
     "text": [
      "The mul of 10 and 5 is 50\n"
     ]
    }
   ],
   "source": [
    "#Example 5: Multiplication of two numbers (fixed point)\n",
    "\n",
    "num1=10\n",
    "num2=5\n",
    "mul= num1 * num2\n",
    "print('The mul of {0} and {1} is {2}'.format(num1,num2,mul))\n"
   ]
  },
  {
   "cell_type": "code",
   "execution_count": 9,
   "metadata": {},
   "outputs": [
    {
     "name": "stdout",
     "output_type": "stream",
     "text": [
      "enter first number5.5\n",
      "enter second number4.2\n",
      "23.1\n"
     ]
    }
   ],
   "source": [
    "#Example 6:multiplication of two numbers with user input (floating point)\n",
    "\n",
    "num1=input('enter first number')\n",
    "num2=input('enter second number')\n",
    "mul= float(num1) * float(num2)\n",
    "print(mul)"
   ]
  },
  {
   "cell_type": "code",
   "execution_count": 10,
   "metadata": {},
   "outputs": [
    {
     "name": "stdout",
     "output_type": "stream",
     "text": [
      "The div of 10 and 5 is 2.0\n"
     ]
    }
   ],
   "source": [
    "#Example 7: Division of two numbers (fixed point)\n",
    "\n",
    "num1=10\n",
    "num2=5\n",
    "div= num1 / num2\n",
    "print('The div of {0} and {1} is {2}'.format(num1,num2,div))\n"
   ]
  },
  {
   "cell_type": "code",
   "execution_count": 11,
   "metadata": {},
   "outputs": [
    {
     "name": "stdout",
     "output_type": "stream",
     "text": [
      "enter first number20.5\n",
      "enter second number20.10\n",
      "1.0199004975124377\n"
     ]
    }
   ],
   "source": [
    "#Example 8: Division of two numbers with user input (floating point)\n",
    "\n",
    "num1=input('enter first number')\n",
    "num2=input('enter second number')\n",
    "div= float(num1) / float(num2)\n",
    "print(div)"
   ]
  },
  {
   "cell_type": "code",
   "execution_count": 16,
   "metadata": {},
   "outputs": [
    {
     "name": "stdout",
     "output_type": "stream",
     "text": [
      "The sorted words are\n",
      "['an', 'example', 'hello', 'is', 'of', 'string', 'this']\n"
     ]
    }
   ],
   "source": [
    "#Example 9: program to sort alphabetically the words form a string provided by user\n",
    "\n",
    "my_str= \"Hello this is an example of string\"\n",
    "words=[word.lower() for word in my_str.split()]\n",
    "words.sort()\n",
    "print(\"The sorted words are\")\n",
    "print(words)"
   ]
  },
  {
   "cell_type": "code",
   "execution_count": 17,
   "metadata": {},
   "outputs": [
    {
     "name": "stdout",
     "output_type": "stream",
     "text": [
      "the values of x after swapping: 10\n",
      "the values of y after swapping: 5\n"
     ]
    }
   ],
   "source": [
    "#Example 10: python program for swapping of two numbers\n",
    "\n",
    "x=5\n",
    "y=10\n",
    "#create a temporary variable and swap the values\n",
    "temp=x\n",
    "x=y\n",
    "y=temp\n",
    "print('the values of x after swapping: {}'.format(x))\n",
    "print('the values of y after swapping: {}'.format(y))\n"
   ]
  },
  {
   "cell_type": "code",
   "execution_count": 28,
   "metadata": {},
   "outputs": [
    {
     "name": "stdout",
     "output_type": "stream",
     "text": [
      "maximum element is : 21\n"
     ]
    }
   ],
   "source": [
    "#Example 11: python program for maximum of 2 no\n",
    "    \n",
    "#list of numbers\n",
    "\n",
    "list1=[21,20]    \n",
    "print(\"maximum element is :\",max(list1))"
   ]
  },
  {
   "cell_type": "code",
   "execution_count": 27,
   "metadata": {},
   "outputs": [
    {
     "name": "stdout",
     "output_type": "stream",
     "text": [
      "minimum element is : 10\n"
     ]
    }
   ],
   "source": [
    "#Example 12: python program for minimum of 2 no\n",
    "    \n",
    "#list of numbers\n",
    "\n",
    "list1=[10,20]    \n",
    "print(\"minimum element is :\",min(list1))"
   ]
  },
  {
   "cell_type": "code",
   "execution_count": 45,
   "metadata": {},
   "outputs": [
    {
     "name": "stdout",
     "output_type": "stream",
     "text": [
      "enter 1st number:10\n",
      "enter 2nd number:20\n",
      "enter 3rd number:30\n",
      "the largest number is 30.0\n"
     ]
    }
   ],
   "source": [
    "#Example 13: python program for highest of 3 numbers\n",
    "\n",
    "num1=float(input(\"enter 1st number:\"))\n",
    "num2=float(input(\"enter 2nd number:\"))\n",
    "num3=float(input(\"enter 3rd number:\"))\n",
    "\n",
    "\n",
    "if(num1>num2) and (num1>num3):\n",
    "    largest=num1\n",
    "elif(num2>num1) and (num2>num3):\n",
    "    largest=num2\n",
    "else:\n",
    "    largest=num3\n",
    "    print(\"the largest number is\",largest)"
   ]
  },
  {
   "cell_type": "code",
   "execution_count": 46,
   "metadata": {},
   "outputs": [
    {
     "name": "stdout",
     "output_type": "stream",
     "text": [
      "enter 1st number:30\n",
      "enter 2nd number:50\n",
      "enter 3rd number:34\n",
      "the lowest number is 30.0\n"
     ]
    }
   ],
   "source": [
    "#Example 13: python program for lowest of 3 numbers\n",
    "\n",
    "num1=float(input(\"enter 1st number:\"))\n",
    "num2=float(input(\"enter 2nd number:\"))\n",
    "num3=float(input(\"enter 3rd number:\"))\n",
    "\n",
    "\n",
    "if(num1<num2) and (num1<num3):\n",
    "    lowest=num1\n",
    "elif(num2<num1) and (num2<num3):\n",
    "    lowest=num2\n",
    "else:\n",
    "    largest=num3\n",
    "print(\"the lowest number is\",lowest)"
   ]
  }
 ],
 "metadata": {
  "kernelspec": {
   "display_name": "Python 3",
   "language": "python",
   "name": "python3"
  },
  "language_info": {
   "codemirror_mode": {
    "name": "ipython",
    "version": 3
   },
   "file_extension": ".py",
   "mimetype": "text/x-python",
   "name": "python",
   "nbconvert_exporter": "python",
   "pygments_lexer": "ipython3",
   "version": "3.8.5"
  }
 },
 "nbformat": 4,
 "nbformat_minor": 4
}
